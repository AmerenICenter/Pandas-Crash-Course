{
    "cells": [
        {
            "cell_type": "markdown",
            "source": [
                "# Welcome to the iCenter's **Pandas Crash Course** \n",
                "\n",
                "\n",
                "        brought to you by Charlie :)\n"
            ],
            "metadata": {}
        },
        {
            "cell_type": "markdown",
            "source": [
                "Pandas is a Python package that you can use to explore data in data tables. \n",
                "\n",
                "\n",
                "\n",
                "In this guide, you will complete simple tasks to get you comfortable with pandas.\n",
                "\n",
                "\n",
                "          Note: Here's the pandas cheatsheet https://pandas.pydata.org/Pandas_Cheat_Sheet.pdf\n",
                "\n",
                "          It has useful pandas commands that you may want to use later on \n",
                "          in this guide, as well as in your journey as a data scientist\n"
            ],
            "metadata": {}
        },
        {
            "cell_type": "markdown",
            "source": [
                "# Part 1: Importing pandas\n",
                "\n",
                "The first step to using pandas is loading it up for use.\n",
                "\n",
                "**In the cell below, import pandas so you can use it.**\n",
                "\n",
                "      Hint: use the command \"import\"\n",
                "\n",
                "Also see: https://pandas.pydata.org/docs/getting_started/intro_tutorials/02_read_write.html"
            ],
            "metadata": {}
        },
        {
            "cell_type": "code",
            "execution_count": 1,
            "source": [
                "# Import pandas here\n",
                "import pandas as pd\n"
            ],
            "outputs": [],
            "metadata": {}
        },
        {
            "cell_type": "markdown",
            "source": [
                "# Part 2: Reading your dataset"
            ],
            "metadata": {}
        },
        {
            "cell_type": "markdown",
            "source": [
                "Now that we've imported pandas, let's read a dataset\n",
                "\n",
                "**Use the csv file called \"charlie.csv\" and store it in the variable \"hello\"**\n",
                "\n",
                "    Hint: pandas can read csv files\n",
                "\n",
                "\n",
                "Also see: https://pandas.pydata.org/docs/getting_started/intro_tutorials/02_read_write.html\n",
                "\n"
            ],
            "metadata": {}
        },
        {
            "cell_type": "code",
            "execution_count": 3,
            "source": [
                "# store the file in hello\n",
                "\n",
                "hello = pd.read_csv('charlie.csv')\n",
                "\n",
                "# Let's call on our variable to see if we did it correctly\n",
                "hello"
            ],
            "outputs": [
                {
                    "output_type": "execute_result",
                    "data": {
                        "text/plain": [
                            "      Name  Favorite Number Answer\n",
                            "0  Charlie                5    Yes\n",
                            "1    James               12     No\n",
                            "2    Katie               19    Yes\n",
                            "3   Xander               30     No\n",
                            "4    Kevin               41    Yes\n",
                            "5    Giang               58    Yes"
                        ],
                        "text/html": [
                            "<div>\n",
                            "<style scoped>\n",
                            "    .dataframe tbody tr th:only-of-type {\n",
                            "        vertical-align: middle;\n",
                            "    }\n",
                            "\n",
                            "    .dataframe tbody tr th {\n",
                            "        vertical-align: top;\n",
                            "    }\n",
                            "\n",
                            "    .dataframe thead th {\n",
                            "        text-align: right;\n",
                            "    }\n",
                            "</style>\n",
                            "<table border=\"1\" class=\"dataframe\">\n",
                            "  <thead>\n",
                            "    <tr style=\"text-align: right;\">\n",
                            "      <th></th>\n",
                            "      <th>Name</th>\n",
                            "      <th>Favorite Number</th>\n",
                            "      <th>Answer</th>\n",
                            "    </tr>\n",
                            "  </thead>\n",
                            "  <tbody>\n",
                            "    <tr>\n",
                            "      <th>0</th>\n",
                            "      <td>Charlie</td>\n",
                            "      <td>5</td>\n",
                            "      <td>Yes</td>\n",
                            "    </tr>\n",
                            "    <tr>\n",
                            "      <th>1</th>\n",
                            "      <td>James</td>\n",
                            "      <td>12</td>\n",
                            "      <td>No</td>\n",
                            "    </tr>\n",
                            "    <tr>\n",
                            "      <th>2</th>\n",
                            "      <td>Katie</td>\n",
                            "      <td>19</td>\n",
                            "      <td>Yes</td>\n",
                            "    </tr>\n",
                            "    <tr>\n",
                            "      <th>3</th>\n",
                            "      <td>Xander</td>\n",
                            "      <td>30</td>\n",
                            "      <td>No</td>\n",
                            "    </tr>\n",
                            "    <tr>\n",
                            "      <th>4</th>\n",
                            "      <td>Kevin</td>\n",
                            "      <td>41</td>\n",
                            "      <td>Yes</td>\n",
                            "    </tr>\n",
                            "    <tr>\n",
                            "      <th>5</th>\n",
                            "      <td>Giang</td>\n",
                            "      <td>58</td>\n",
                            "      <td>Yes</td>\n",
                            "    </tr>\n",
                            "  </tbody>\n",
                            "</table>\n",
                            "</div>"
                        ]
                    },
                    "metadata": {},
                    "execution_count": 3
                }
            ],
            "metadata": {}
        },
        {
            "cell_type": "markdown",
            "source": [
                "There are other ways of reading datasets but reading a csv is the most common way.\n",
                "\n",
                "By reading the csv, we have created a **DataFrame**. A DataFrame is a data structure in Python that we can work with. \n",
                "\n",
                " "
            ],
            "metadata": {}
        },
        {
            "cell_type": "markdown",
            "source": [
                "# Part 3: Know our way around a DataFrame\n",
                "\n",
                "A DataFrame has rows. These rows are labeled by an **index**, an integer assigned to a row.\n",
                "\n",
                "We can access a row by calling on the index.\n",
                "\n",
                "Let's find out how many indexes are in our \"hello\" DataFrame using the **.index** function.\n",
                "\n"
            ],
            "metadata": {}
        },
        {
            "cell_type": "code",
            "execution_count": 4,
            "source": [
                "hello.index"
            ],
            "outputs": [
                {
                    "output_type": "execute_result",
                    "data": {
                        "text/plain": [
                            "RangeIndex(start=0, stop=6, step=1)"
                        ]
                    },
                    "metadata": {},
                    "execution_count": 4
                }
            ],
            "metadata": {}
        },
        {
            "cell_type": "markdown",
            "source": [
                "We can enter the index integer into **.iloc[ ]** to access all the information from a specified row.\n",
                "\n"
            ],
            "metadata": {}
        },
        {
            "cell_type": "code",
            "execution_count": 5,
            "source": [
                "# For example, if I wanted to see what is in row 3, I could do the following\n",
                "hello.iloc[3]"
            ],
            "outputs": [
                {
                    "output_type": "execute_result",
                    "data": {
                        "text/plain": [
                            "Name               Xander\n",
                            "Favorite Number        30\n",
                            "Answer                 No\n",
                            "Name: 3, dtype: object"
                        ]
                    },
                    "metadata": {},
                    "execution_count": 5
                }
            ],
            "metadata": {}
        },
        {
            "cell_type": "markdown",
            "source": [
                "**Now you try! Look at your hello DataFrame and select the row that contains James**"
            ],
            "metadata": {}
        },
        {
            "cell_type": "code",
            "execution_count": 7,
            "source": [
                "# Try to get all the information from row that contains James\n",
                "\n",
                "James_data = hello.iloc[1]\n",
                "\n",
                "\n",
                "# Let's print our answer below\n",
                "\n",
                "print(James_data)\n"
            ],
            "outputs": [
                {
                    "output_type": "stream",
                    "name": "stdout",
                    "text": [
                        "Name               James\n",
                        "Favorite Number       12\n",
                        "Answer                No\n",
                        "Name: 1, dtype: object\n"
                    ]
                }
            ],
            "metadata": {}
        },
        {
            "cell_type": "markdown",
            "source": [
                "As you can see above, the index corresponds with a row.\n",
                "\n",
                "A DataFrame also has columns. \n",
                "\n",
                "Let's see what columns we are working with in our \"hello\" DataFrame using the **.columns** function"
            ],
            "metadata": {}
        },
        {
            "cell_type": "code",
            "execution_count": 8,
            "source": [
                "hello.columns"
            ],
            "outputs": [
                {
                    "output_type": "execute_result",
                    "data": {
                        "text/plain": [
                            "Index(['Name', 'Favorite Number', 'Answer'], dtype='object')"
                        ]
                    },
                    "metadata": {},
                    "execution_count": 8
                }
            ],
            "metadata": {}
        },
        {
            "cell_type": "markdown",
            "source": [
                "We can enter the index and column name into **.loc[ ]** to access the specified data.\n",
                "\n",
                "Example: DataFrame.loc[ integer, 'Column Name']\n",
                "\n",
                "**Using the hello DataFrame and the example above, determine the ANSWER that CHARLIE gave**\n",
                "\n",
                "\n",
                "    Hint: First determine the correct index. Then, determine the column name that contain's Charlie's answer"
            ],
            "metadata": {}
        },
        {
            "cell_type": "code",
            "execution_count": 11,
            "source": [
                "# Find Charlie's Answer\n",
                "charlie_answer = hello.loc[0, 'Answer']\n",
                "\n",
                "# Let's print our answer below\n",
                "print(charlie_answer)"
            ],
            "outputs": [
                {
                    "output_type": "stream",
                    "name": "stdout",
                    "text": [
                        "Yes\n"
                    ]
                }
            ],
            "metadata": {}
        },
        {
            "cell_type": "markdown",
            "source": [
                "# Part 3.5: Useful functions in a Pandas\n",
                "\n",
                "Above we used the function .loc and .iloc. Below are a few functions that may come in\n",
                "handy when you start working with data. \n",
                "\n",
                "Further reading: https://www.analyticsvidhya.com/blog/2021/05/pandas-functions-13-most-important/\n",
                "\n"
            ],
            "metadata": {}
        },
        {
            "cell_type": "markdown",
            "source": [
                "1. .head(n) gives us the first 'n' rows of a dataframe \n",
                "2. .describe() gives us a statistical summary of the dataframe\n",
                "3. .value_counts() gives the number of times a value appears\n",
                "4. .drop_duplicates drops duplicate rows\n",
                "5. .fillna() replaces NaN values with what we enter in"
            ],
            "metadata": {}
        },
        {
            "cell_type": "code",
            "execution_count": 12,
            "source": [
                "p3_df = pd.read_csv('partthreedf.csv')\n",
                "p3_df"
            ],
            "outputs": [
                {
                    "output_type": "execute_result",
                    "data": {
                        "text/plain": [
                            "   name  height  weight  shoe size   color\n",
                            "0   Joe    77.0     200         13     red\n",
                            "1  Jane    63.0     100          6    blue\n",
                            "2   Ben    70.0     125          8     red\n",
                            "3  John    69.0     150          9   green\n",
                            "4   Joe    77.0     200         13     red\n",
                            "5  Alex     NaN     175         10  purple\n",
                            "6   Sam    61.0     140          7  yellow"
                        ],
                        "text/html": [
                            "<div>\n",
                            "<style scoped>\n",
                            "    .dataframe tbody tr th:only-of-type {\n",
                            "        vertical-align: middle;\n",
                            "    }\n",
                            "\n",
                            "    .dataframe tbody tr th {\n",
                            "        vertical-align: top;\n",
                            "    }\n",
                            "\n",
                            "    .dataframe thead th {\n",
                            "        text-align: right;\n",
                            "    }\n",
                            "</style>\n",
                            "<table border=\"1\" class=\"dataframe\">\n",
                            "  <thead>\n",
                            "    <tr style=\"text-align: right;\">\n",
                            "      <th></th>\n",
                            "      <th>name</th>\n",
                            "      <th>height</th>\n",
                            "      <th>weight</th>\n",
                            "      <th>shoe size</th>\n",
                            "      <th>color</th>\n",
                            "    </tr>\n",
                            "  </thead>\n",
                            "  <tbody>\n",
                            "    <tr>\n",
                            "      <th>0</th>\n",
                            "      <td>Joe</td>\n",
                            "      <td>77.0</td>\n",
                            "      <td>200</td>\n",
                            "      <td>13</td>\n",
                            "      <td>red</td>\n",
                            "    </tr>\n",
                            "    <tr>\n",
                            "      <th>1</th>\n",
                            "      <td>Jane</td>\n",
                            "      <td>63.0</td>\n",
                            "      <td>100</td>\n",
                            "      <td>6</td>\n",
                            "      <td>blue</td>\n",
                            "    </tr>\n",
                            "    <tr>\n",
                            "      <th>2</th>\n",
                            "      <td>Ben</td>\n",
                            "      <td>70.0</td>\n",
                            "      <td>125</td>\n",
                            "      <td>8</td>\n",
                            "      <td>red</td>\n",
                            "    </tr>\n",
                            "    <tr>\n",
                            "      <th>3</th>\n",
                            "      <td>John</td>\n",
                            "      <td>69.0</td>\n",
                            "      <td>150</td>\n",
                            "      <td>9</td>\n",
                            "      <td>green</td>\n",
                            "    </tr>\n",
                            "    <tr>\n",
                            "      <th>4</th>\n",
                            "      <td>Joe</td>\n",
                            "      <td>77.0</td>\n",
                            "      <td>200</td>\n",
                            "      <td>13</td>\n",
                            "      <td>red</td>\n",
                            "    </tr>\n",
                            "    <tr>\n",
                            "      <th>5</th>\n",
                            "      <td>Alex</td>\n",
                            "      <td>NaN</td>\n",
                            "      <td>175</td>\n",
                            "      <td>10</td>\n",
                            "      <td>purple</td>\n",
                            "    </tr>\n",
                            "    <tr>\n",
                            "      <th>6</th>\n",
                            "      <td>Sam</td>\n",
                            "      <td>61.0</td>\n",
                            "      <td>140</td>\n",
                            "      <td>7</td>\n",
                            "      <td>yellow</td>\n",
                            "    </tr>\n",
                            "  </tbody>\n",
                            "</table>\n",
                            "</div>"
                        ]
                    },
                    "metadata": {},
                    "execution_count": 12
                }
            ],
            "metadata": {}
        },
        {
            "cell_type": "code",
            "execution_count": 13,
            "source": [
                "# example code\n",
                "head_example = p3_df.head(3)\n",
                "\n",
                "describe_ex = p3_df.describe()\n",
                "\n",
                "vcounts_ex = p3_df['color'].value_counts()\n",
                "\n",
                "droppings_ex = p3_df.drop_duplicates()\n",
                "\n",
                "filled_ex = p3_df.fillna(1000)\n"
            ],
            "outputs": [],
            "metadata": {}
        },
        {
            "cell_type": "markdown",
            "source": [
                "Print each example below by removing the hashtag (#) infront of each example and see what the outputs look like.\n",
                "\n",
                "\n",
                "If we are outputting a dataframe, compare the new dataframe to the old one and see what's different."
            ],
            "metadata": {}
        },
        {
            "cell_type": "code",
            "execution_count": 15,
            "source": [
                "# Playground for you to try things \n",
                "\n",
                "# head_example\n",
                "# describe_ex\n",
                "# vcounts_ex\n",
                "droppings_ex\n",
                "# filled_ex"
            ],
            "outputs": [
                {
                    "output_type": "execute_result",
                    "data": {
                        "text/plain": [
                            "   name  height  weight  shoe size   color\n",
                            "0   Joe    77.0     200         13     red\n",
                            "1  Jane    63.0     100          6    blue\n",
                            "2   Ben    70.0     125          8     red\n",
                            "3  John    69.0     150          9   green\n",
                            "5  Alex     NaN     175         10  purple\n",
                            "6   Sam    61.0     140          7  yellow"
                        ],
                        "text/html": [
                            "<div>\n",
                            "<style scoped>\n",
                            "    .dataframe tbody tr th:only-of-type {\n",
                            "        vertical-align: middle;\n",
                            "    }\n",
                            "\n",
                            "    .dataframe tbody tr th {\n",
                            "        vertical-align: top;\n",
                            "    }\n",
                            "\n",
                            "    .dataframe thead th {\n",
                            "        text-align: right;\n",
                            "    }\n",
                            "</style>\n",
                            "<table border=\"1\" class=\"dataframe\">\n",
                            "  <thead>\n",
                            "    <tr style=\"text-align: right;\">\n",
                            "      <th></th>\n",
                            "      <th>name</th>\n",
                            "      <th>height</th>\n",
                            "      <th>weight</th>\n",
                            "      <th>shoe size</th>\n",
                            "      <th>color</th>\n",
                            "    </tr>\n",
                            "  </thead>\n",
                            "  <tbody>\n",
                            "    <tr>\n",
                            "      <th>0</th>\n",
                            "      <td>Joe</td>\n",
                            "      <td>77.0</td>\n",
                            "      <td>200</td>\n",
                            "      <td>13</td>\n",
                            "      <td>red</td>\n",
                            "    </tr>\n",
                            "    <tr>\n",
                            "      <th>1</th>\n",
                            "      <td>Jane</td>\n",
                            "      <td>63.0</td>\n",
                            "      <td>100</td>\n",
                            "      <td>6</td>\n",
                            "      <td>blue</td>\n",
                            "    </tr>\n",
                            "    <tr>\n",
                            "      <th>2</th>\n",
                            "      <td>Ben</td>\n",
                            "      <td>70.0</td>\n",
                            "      <td>125</td>\n",
                            "      <td>8</td>\n",
                            "      <td>red</td>\n",
                            "    </tr>\n",
                            "    <tr>\n",
                            "      <th>3</th>\n",
                            "      <td>John</td>\n",
                            "      <td>69.0</td>\n",
                            "      <td>150</td>\n",
                            "      <td>9</td>\n",
                            "      <td>green</td>\n",
                            "    </tr>\n",
                            "    <tr>\n",
                            "      <th>5</th>\n",
                            "      <td>Alex</td>\n",
                            "      <td>NaN</td>\n",
                            "      <td>175</td>\n",
                            "      <td>10</td>\n",
                            "      <td>purple</td>\n",
                            "    </tr>\n",
                            "    <tr>\n",
                            "      <th>6</th>\n",
                            "      <td>Sam</td>\n",
                            "      <td>61.0</td>\n",
                            "      <td>140</td>\n",
                            "      <td>7</td>\n",
                            "      <td>yellow</td>\n",
                            "    </tr>\n",
                            "  </tbody>\n",
                            "</table>\n",
                            "</div>"
                        ]
                    },
                    "metadata": {},
                    "execution_count": 15
                }
            ],
            "metadata": {}
        },
        {
            "cell_type": "markdown",
            "source": [
                "# Part 4: Altering your DataFrame\n",
                "\n",
                "Sometimes our DataFrame has information that we don't want. There are ways to change our DataFrame to remove unwanted data."
            ],
            "metadata": {}
        },
        {
            "cell_type": "markdown",
            "source": [
                "What if we don't care about \"Favorite Number\"? We can drop the column from the \"hello\" DataFrame using the following code.\n",
                "\n",
                "    DataFrame.drop(columns = \"Column Name\")\n"
            ],
            "metadata": {}
        },
        {
            "cell_type": "code",
            "execution_count": 16,
            "source": [
                "# We will remove the Favorite Number column and store the new dataframe as hello2\n",
                "hello2 = hello.drop(columns = \"Favorite Number\")\n",
                "\n",
                "# Let's see if we did it correctly\n",
                "hello2\n"
            ],
            "outputs": [
                {
                    "output_type": "execute_result",
                    "data": {
                        "text/plain": [
                            "      Name Answer\n",
                            "0  Charlie    Yes\n",
                            "1    James     No\n",
                            "2    Katie    Yes\n",
                            "3   Xander     No\n",
                            "4    Kevin    Yes\n",
                            "5    Giang    Yes"
                        ],
                        "text/html": [
                            "<div>\n",
                            "<style scoped>\n",
                            "    .dataframe tbody tr th:only-of-type {\n",
                            "        vertical-align: middle;\n",
                            "    }\n",
                            "\n",
                            "    .dataframe tbody tr th {\n",
                            "        vertical-align: top;\n",
                            "    }\n",
                            "\n",
                            "    .dataframe thead th {\n",
                            "        text-align: right;\n",
                            "    }\n",
                            "</style>\n",
                            "<table border=\"1\" class=\"dataframe\">\n",
                            "  <thead>\n",
                            "    <tr style=\"text-align: right;\">\n",
                            "      <th></th>\n",
                            "      <th>Name</th>\n",
                            "      <th>Answer</th>\n",
                            "    </tr>\n",
                            "  </thead>\n",
                            "  <tbody>\n",
                            "    <tr>\n",
                            "      <th>0</th>\n",
                            "      <td>Charlie</td>\n",
                            "      <td>Yes</td>\n",
                            "    </tr>\n",
                            "    <tr>\n",
                            "      <th>1</th>\n",
                            "      <td>James</td>\n",
                            "      <td>No</td>\n",
                            "    </tr>\n",
                            "    <tr>\n",
                            "      <th>2</th>\n",
                            "      <td>Katie</td>\n",
                            "      <td>Yes</td>\n",
                            "    </tr>\n",
                            "    <tr>\n",
                            "      <th>3</th>\n",
                            "      <td>Xander</td>\n",
                            "      <td>No</td>\n",
                            "    </tr>\n",
                            "    <tr>\n",
                            "      <th>4</th>\n",
                            "      <td>Kevin</td>\n",
                            "      <td>Yes</td>\n",
                            "    </tr>\n",
                            "    <tr>\n",
                            "      <th>5</th>\n",
                            "      <td>Giang</td>\n",
                            "      <td>Yes</td>\n",
                            "    </tr>\n",
                            "  </tbody>\n",
                            "</table>\n",
                            "</div>"
                        ]
                    },
                    "metadata": {},
                    "execution_count": 16
                }
            ],
            "metadata": {}
        },
        {
            "cell_type": "markdown",
            "source": [
                "We can also add columns to our DataFrame. \n",
                "\n",
                "Below is an example of how we can add a new column to our hello DataFrame that contains our the square of our favorite numbers."
            ],
            "metadata": {}
        },
        {
            "cell_type": "code",
            "execution_count": 17,
            "source": [
                "# We are squaring the Favorite number column and putting the values in a new column named \"New Number\"\n",
                "hello[\"New Number\"] = hello[\"Favorite Number\"]**2\n",
                "\n",
                "hello"
            ],
            "outputs": [
                {
                    "output_type": "execute_result",
                    "data": {
                        "text/plain": [
                            "      Name  Favorite Number Answer  New Number\n",
                            "0  Charlie                5    Yes          25\n",
                            "1    James               12     No         144\n",
                            "2    Katie               19    Yes         361\n",
                            "3   Xander               30     No         900\n",
                            "4    Kevin               41    Yes        1681\n",
                            "5    Giang               58    Yes        3364"
                        ],
                        "text/html": [
                            "<div>\n",
                            "<style scoped>\n",
                            "    .dataframe tbody tr th:only-of-type {\n",
                            "        vertical-align: middle;\n",
                            "    }\n",
                            "\n",
                            "    .dataframe tbody tr th {\n",
                            "        vertical-align: top;\n",
                            "    }\n",
                            "\n",
                            "    .dataframe thead th {\n",
                            "        text-align: right;\n",
                            "    }\n",
                            "</style>\n",
                            "<table border=\"1\" class=\"dataframe\">\n",
                            "  <thead>\n",
                            "    <tr style=\"text-align: right;\">\n",
                            "      <th></th>\n",
                            "      <th>Name</th>\n",
                            "      <th>Favorite Number</th>\n",
                            "      <th>Answer</th>\n",
                            "      <th>New Number</th>\n",
                            "    </tr>\n",
                            "  </thead>\n",
                            "  <tbody>\n",
                            "    <tr>\n",
                            "      <th>0</th>\n",
                            "      <td>Charlie</td>\n",
                            "      <td>5</td>\n",
                            "      <td>Yes</td>\n",
                            "      <td>25</td>\n",
                            "    </tr>\n",
                            "    <tr>\n",
                            "      <th>1</th>\n",
                            "      <td>James</td>\n",
                            "      <td>12</td>\n",
                            "      <td>No</td>\n",
                            "      <td>144</td>\n",
                            "    </tr>\n",
                            "    <tr>\n",
                            "      <th>2</th>\n",
                            "      <td>Katie</td>\n",
                            "      <td>19</td>\n",
                            "      <td>Yes</td>\n",
                            "      <td>361</td>\n",
                            "    </tr>\n",
                            "    <tr>\n",
                            "      <th>3</th>\n",
                            "      <td>Xander</td>\n",
                            "      <td>30</td>\n",
                            "      <td>No</td>\n",
                            "      <td>900</td>\n",
                            "    </tr>\n",
                            "    <tr>\n",
                            "      <th>4</th>\n",
                            "      <td>Kevin</td>\n",
                            "      <td>41</td>\n",
                            "      <td>Yes</td>\n",
                            "      <td>1681</td>\n",
                            "    </tr>\n",
                            "    <tr>\n",
                            "      <th>5</th>\n",
                            "      <td>Giang</td>\n",
                            "      <td>58</td>\n",
                            "      <td>Yes</td>\n",
                            "      <td>3364</td>\n",
                            "    </tr>\n",
                            "  </tbody>\n",
                            "</table>\n",
                            "</div>"
                        ]
                    },
                    "metadata": {},
                    "execution_count": 17
                }
            ],
            "metadata": {}
        },
        {
            "cell_type": "markdown",
            "source": [
                "As you an see, we made a new column called \"New Number\" in our \"hello\" DataFrame.\n",
                "\n",
                "We can do the same thing when given a list of values. Keep in mind, our list needs to be the same length as the DataFrame"
            ],
            "metadata": {}
        },
        {
            "cell_type": "code",
            "execution_count": 18,
            "source": [
                "# Below are two new lists\n",
                "new_list_1 = [\"horse\", \"crab\", \"goose\", \"dog\", \"otter\", \"fish\"]\n",
                "new_list_2 = [3, 6, 9, 12, 15, 18]\n",
                "\n",
                "# We can straight up add the lists to the hello dataframe under a new column name\n",
                "hello[\"animals\"] = new_list_1\n",
                "\n",
                "# Let's see how we've changed our dataframe\n",
                "hello"
            ],
            "outputs": [
                {
                    "output_type": "execute_result",
                    "data": {
                        "text/plain": [
                            "      Name  Favorite Number Answer  New Number animals\n",
                            "0  Charlie                5    Yes          25   horse\n",
                            "1    James               12     No         144    crab\n",
                            "2    Katie               19    Yes         361   goose\n",
                            "3   Xander               30     No         900     dog\n",
                            "4    Kevin               41    Yes        1681   otter\n",
                            "5    Giang               58    Yes        3364    fish"
                        ],
                        "text/html": [
                            "<div>\n",
                            "<style scoped>\n",
                            "    .dataframe tbody tr th:only-of-type {\n",
                            "        vertical-align: middle;\n",
                            "    }\n",
                            "\n",
                            "    .dataframe tbody tr th {\n",
                            "        vertical-align: top;\n",
                            "    }\n",
                            "\n",
                            "    .dataframe thead th {\n",
                            "        text-align: right;\n",
                            "    }\n",
                            "</style>\n",
                            "<table border=\"1\" class=\"dataframe\">\n",
                            "  <thead>\n",
                            "    <tr style=\"text-align: right;\">\n",
                            "      <th></th>\n",
                            "      <th>Name</th>\n",
                            "      <th>Favorite Number</th>\n",
                            "      <th>Answer</th>\n",
                            "      <th>New Number</th>\n",
                            "      <th>animals</th>\n",
                            "    </tr>\n",
                            "  </thead>\n",
                            "  <tbody>\n",
                            "    <tr>\n",
                            "      <th>0</th>\n",
                            "      <td>Charlie</td>\n",
                            "      <td>5</td>\n",
                            "      <td>Yes</td>\n",
                            "      <td>25</td>\n",
                            "      <td>horse</td>\n",
                            "    </tr>\n",
                            "    <tr>\n",
                            "      <th>1</th>\n",
                            "      <td>James</td>\n",
                            "      <td>12</td>\n",
                            "      <td>No</td>\n",
                            "      <td>144</td>\n",
                            "      <td>crab</td>\n",
                            "    </tr>\n",
                            "    <tr>\n",
                            "      <th>2</th>\n",
                            "      <td>Katie</td>\n",
                            "      <td>19</td>\n",
                            "      <td>Yes</td>\n",
                            "      <td>361</td>\n",
                            "      <td>goose</td>\n",
                            "    </tr>\n",
                            "    <tr>\n",
                            "      <th>3</th>\n",
                            "      <td>Xander</td>\n",
                            "      <td>30</td>\n",
                            "      <td>No</td>\n",
                            "      <td>900</td>\n",
                            "      <td>dog</td>\n",
                            "    </tr>\n",
                            "    <tr>\n",
                            "      <th>4</th>\n",
                            "      <td>Kevin</td>\n",
                            "      <td>41</td>\n",
                            "      <td>Yes</td>\n",
                            "      <td>1681</td>\n",
                            "      <td>otter</td>\n",
                            "    </tr>\n",
                            "    <tr>\n",
                            "      <th>5</th>\n",
                            "      <td>Giang</td>\n",
                            "      <td>58</td>\n",
                            "      <td>Yes</td>\n",
                            "      <td>3364</td>\n",
                            "      <td>fish</td>\n",
                            "    </tr>\n",
                            "  </tbody>\n",
                            "</table>\n",
                            "</div>"
                        ]
                    },
                    "metadata": {},
                    "execution_count": 18
                }
            ],
            "metadata": {}
        },
        {
            "cell_type": "markdown",
            "source": [
                "Now you try! **Here's your challenge:**\n",
                "\n",
                "**First remove the two columns \"New Number\" and \"animals\" and store it as my_df**\n",
                "\n",
                "**Next, add new_list_2 to the hello dataframe**\n",
                "\n",
                "**Finally, create a new column that has the product of \"Favorite Number\" and the numbers from new_list_2**"
            ],
            "metadata": {}
        },
        {
            "cell_type": "code",
            "execution_count": 20,
            "source": [
                "# Drop your columns below\n",
                "my_df = hello.drop(columns = ['New Number', 'animals'])\n",
                "\n",
                "# Look at your dataframe to see if it worked\n",
                "\n",
                "my_df\n"
            ],
            "outputs": [
                {
                    "output_type": "execute_result",
                    "data": {
                        "text/plain": [
                            "      Name  Favorite Number Answer\n",
                            "0  Charlie                5    Yes\n",
                            "1    James               12     No\n",
                            "2    Katie               19    Yes\n",
                            "3   Xander               30     No\n",
                            "4    Kevin               41    Yes\n",
                            "5    Giang               58    Yes"
                        ],
                        "text/html": [
                            "<div>\n",
                            "<style scoped>\n",
                            "    .dataframe tbody tr th:only-of-type {\n",
                            "        vertical-align: middle;\n",
                            "    }\n",
                            "\n",
                            "    .dataframe tbody tr th {\n",
                            "        vertical-align: top;\n",
                            "    }\n",
                            "\n",
                            "    .dataframe thead th {\n",
                            "        text-align: right;\n",
                            "    }\n",
                            "</style>\n",
                            "<table border=\"1\" class=\"dataframe\">\n",
                            "  <thead>\n",
                            "    <tr style=\"text-align: right;\">\n",
                            "      <th></th>\n",
                            "      <th>Name</th>\n",
                            "      <th>Favorite Number</th>\n",
                            "      <th>Answer</th>\n",
                            "    </tr>\n",
                            "  </thead>\n",
                            "  <tbody>\n",
                            "    <tr>\n",
                            "      <th>0</th>\n",
                            "      <td>Charlie</td>\n",
                            "      <td>5</td>\n",
                            "      <td>Yes</td>\n",
                            "    </tr>\n",
                            "    <tr>\n",
                            "      <th>1</th>\n",
                            "      <td>James</td>\n",
                            "      <td>12</td>\n",
                            "      <td>No</td>\n",
                            "    </tr>\n",
                            "    <tr>\n",
                            "      <th>2</th>\n",
                            "      <td>Katie</td>\n",
                            "      <td>19</td>\n",
                            "      <td>Yes</td>\n",
                            "    </tr>\n",
                            "    <tr>\n",
                            "      <th>3</th>\n",
                            "      <td>Xander</td>\n",
                            "      <td>30</td>\n",
                            "      <td>No</td>\n",
                            "    </tr>\n",
                            "    <tr>\n",
                            "      <th>4</th>\n",
                            "      <td>Kevin</td>\n",
                            "      <td>41</td>\n",
                            "      <td>Yes</td>\n",
                            "    </tr>\n",
                            "    <tr>\n",
                            "      <th>5</th>\n",
                            "      <td>Giang</td>\n",
                            "      <td>58</td>\n",
                            "      <td>Yes</td>\n",
                            "    </tr>\n",
                            "  </tbody>\n",
                            "</table>\n",
                            "</div>"
                        ]
                    },
                    "metadata": {},
                    "execution_count": 20
                }
            ],
            "metadata": {}
        },
        {
            "cell_type": "code",
            "execution_count": 22,
            "source": [
                "# Add new_list_2 to my_df below\n",
                "my_df[\"mo3\"] = new_list_2\n",
                "\n",
                "# Look at the my_df and see if it worked\n",
                "my_df"
            ],
            "outputs": [
                {
                    "output_type": "execute_result",
                    "data": {
                        "text/plain": [
                            "      Name  Favorite Number Answer  mo3\n",
                            "0  Charlie                5    Yes    3\n",
                            "1    James               12     No    6\n",
                            "2    Katie               19    Yes    9\n",
                            "3   Xander               30     No   12\n",
                            "4    Kevin               41    Yes   15\n",
                            "5    Giang               58    Yes   18"
                        ],
                        "text/html": [
                            "<div>\n",
                            "<style scoped>\n",
                            "    .dataframe tbody tr th:only-of-type {\n",
                            "        vertical-align: middle;\n",
                            "    }\n",
                            "\n",
                            "    .dataframe tbody tr th {\n",
                            "        vertical-align: top;\n",
                            "    }\n",
                            "\n",
                            "    .dataframe thead th {\n",
                            "        text-align: right;\n",
                            "    }\n",
                            "</style>\n",
                            "<table border=\"1\" class=\"dataframe\">\n",
                            "  <thead>\n",
                            "    <tr style=\"text-align: right;\">\n",
                            "      <th></th>\n",
                            "      <th>Name</th>\n",
                            "      <th>Favorite Number</th>\n",
                            "      <th>Answer</th>\n",
                            "      <th>mo3</th>\n",
                            "    </tr>\n",
                            "  </thead>\n",
                            "  <tbody>\n",
                            "    <tr>\n",
                            "      <th>0</th>\n",
                            "      <td>Charlie</td>\n",
                            "      <td>5</td>\n",
                            "      <td>Yes</td>\n",
                            "      <td>3</td>\n",
                            "    </tr>\n",
                            "    <tr>\n",
                            "      <th>1</th>\n",
                            "      <td>James</td>\n",
                            "      <td>12</td>\n",
                            "      <td>No</td>\n",
                            "      <td>6</td>\n",
                            "    </tr>\n",
                            "    <tr>\n",
                            "      <th>2</th>\n",
                            "      <td>Katie</td>\n",
                            "      <td>19</td>\n",
                            "      <td>Yes</td>\n",
                            "      <td>9</td>\n",
                            "    </tr>\n",
                            "    <tr>\n",
                            "      <th>3</th>\n",
                            "      <td>Xander</td>\n",
                            "      <td>30</td>\n",
                            "      <td>No</td>\n",
                            "      <td>12</td>\n",
                            "    </tr>\n",
                            "    <tr>\n",
                            "      <th>4</th>\n",
                            "      <td>Kevin</td>\n",
                            "      <td>41</td>\n",
                            "      <td>Yes</td>\n",
                            "      <td>15</td>\n",
                            "    </tr>\n",
                            "    <tr>\n",
                            "      <th>5</th>\n",
                            "      <td>Giang</td>\n",
                            "      <td>58</td>\n",
                            "      <td>Yes</td>\n",
                            "      <td>18</td>\n",
                            "    </tr>\n",
                            "  </tbody>\n",
                            "</table>\n",
                            "</div>"
                        ]
                    },
                    "metadata": {},
                    "execution_count": 22
                }
            ],
            "metadata": {}
        },
        {
            "cell_type": "code",
            "execution_count": 23,
            "source": [
                "# Find the product and store it as a new column in my_df\n",
                "my_df['Product'] = my_df['Favorite Number']*my_df['mo3']\n",
                "\n",
                "# See if it worked\n",
                "\n",
                "my_df"
            ],
            "outputs": [
                {
                    "output_type": "execute_result",
                    "data": {
                        "text/plain": [
                            "      Name  Favorite Number Answer  mo3  Product\n",
                            "0  Charlie                5    Yes    3       15\n",
                            "1    James               12     No    6       72\n",
                            "2    Katie               19    Yes    9      171\n",
                            "3   Xander               30     No   12      360\n",
                            "4    Kevin               41    Yes   15      615\n",
                            "5    Giang               58    Yes   18     1044"
                        ],
                        "text/html": [
                            "<div>\n",
                            "<style scoped>\n",
                            "    .dataframe tbody tr th:only-of-type {\n",
                            "        vertical-align: middle;\n",
                            "    }\n",
                            "\n",
                            "    .dataframe tbody tr th {\n",
                            "        vertical-align: top;\n",
                            "    }\n",
                            "\n",
                            "    .dataframe thead th {\n",
                            "        text-align: right;\n",
                            "    }\n",
                            "</style>\n",
                            "<table border=\"1\" class=\"dataframe\">\n",
                            "  <thead>\n",
                            "    <tr style=\"text-align: right;\">\n",
                            "      <th></th>\n",
                            "      <th>Name</th>\n",
                            "      <th>Favorite Number</th>\n",
                            "      <th>Answer</th>\n",
                            "      <th>mo3</th>\n",
                            "      <th>Product</th>\n",
                            "    </tr>\n",
                            "  </thead>\n",
                            "  <tbody>\n",
                            "    <tr>\n",
                            "      <th>0</th>\n",
                            "      <td>Charlie</td>\n",
                            "      <td>5</td>\n",
                            "      <td>Yes</td>\n",
                            "      <td>3</td>\n",
                            "      <td>15</td>\n",
                            "    </tr>\n",
                            "    <tr>\n",
                            "      <th>1</th>\n",
                            "      <td>James</td>\n",
                            "      <td>12</td>\n",
                            "      <td>No</td>\n",
                            "      <td>6</td>\n",
                            "      <td>72</td>\n",
                            "    </tr>\n",
                            "    <tr>\n",
                            "      <th>2</th>\n",
                            "      <td>Katie</td>\n",
                            "      <td>19</td>\n",
                            "      <td>Yes</td>\n",
                            "      <td>9</td>\n",
                            "      <td>171</td>\n",
                            "    </tr>\n",
                            "    <tr>\n",
                            "      <th>3</th>\n",
                            "      <td>Xander</td>\n",
                            "      <td>30</td>\n",
                            "      <td>No</td>\n",
                            "      <td>12</td>\n",
                            "      <td>360</td>\n",
                            "    </tr>\n",
                            "    <tr>\n",
                            "      <th>4</th>\n",
                            "      <td>Kevin</td>\n",
                            "      <td>41</td>\n",
                            "      <td>Yes</td>\n",
                            "      <td>15</td>\n",
                            "      <td>615</td>\n",
                            "    </tr>\n",
                            "    <tr>\n",
                            "      <th>5</th>\n",
                            "      <td>Giang</td>\n",
                            "      <td>58</td>\n",
                            "      <td>Yes</td>\n",
                            "      <td>18</td>\n",
                            "      <td>1044</td>\n",
                            "    </tr>\n",
                            "  </tbody>\n",
                            "</table>\n",
                            "</div>"
                        ]
                    },
                    "metadata": {},
                    "execution_count": 23
                }
            ],
            "metadata": {}
        },
        {
            "cell_type": "markdown",
            "source": [
                "# Part 5: Creating Your Own DataFrame\n",
                "\n",
                "We can also create a brand new DataFrame and store data into columns. \n",
                "\n",
                "This can be done using a $dictionary$.\n",
                "\n",
                "Read more here: https://pandas.pydata.org/docs/reference/api/pandas.DataFrame.from_dict.html\n",
                "\n",
                "Below is an example that you can run to see where everything falls.\n"
            ],
            "metadata": {}
        },
        {
            "cell_type": "code",
            "execution_count": 24,
            "source": [
                "some_list = ['yes', 'no', 34]\n",
                "\n",
                "my_dictionary = {'column_name': some_list, 'more numbers': [ 2, 12, 144]}\n",
                "brand_new_df = pd.DataFrame(my_dictionary)\n",
                "brand_new_df\n"
            ],
            "outputs": [
                {
                    "output_type": "execute_result",
                    "data": {
                        "text/plain": [
                            "  column_name  more numbers\n",
                            "0         yes             2\n",
                            "1          no            12\n",
                            "2          34           144"
                        ],
                        "text/html": [
                            "<div>\n",
                            "<style scoped>\n",
                            "    .dataframe tbody tr th:only-of-type {\n",
                            "        vertical-align: middle;\n",
                            "    }\n",
                            "\n",
                            "    .dataframe tbody tr th {\n",
                            "        vertical-align: top;\n",
                            "    }\n",
                            "\n",
                            "    .dataframe thead th {\n",
                            "        text-align: right;\n",
                            "    }\n",
                            "</style>\n",
                            "<table border=\"1\" class=\"dataframe\">\n",
                            "  <thead>\n",
                            "    <tr style=\"text-align: right;\">\n",
                            "      <th></th>\n",
                            "      <th>column_name</th>\n",
                            "      <th>more numbers</th>\n",
                            "    </tr>\n",
                            "  </thead>\n",
                            "  <tbody>\n",
                            "    <tr>\n",
                            "      <th>0</th>\n",
                            "      <td>yes</td>\n",
                            "      <td>2</td>\n",
                            "    </tr>\n",
                            "    <tr>\n",
                            "      <th>1</th>\n",
                            "      <td>no</td>\n",
                            "      <td>12</td>\n",
                            "    </tr>\n",
                            "    <tr>\n",
                            "      <th>2</th>\n",
                            "      <td>34</td>\n",
                            "      <td>144</td>\n",
                            "    </tr>\n",
                            "  </tbody>\n",
                            "</table>\n",
                            "</div>"
                        ]
                    },
                    "metadata": {},
                    "execution_count": 24
                }
            ],
            "metadata": {}
        },
        {
            "cell_type": "markdown",
            "source": [
                "As shown above, we use the pandas.DataFrame() function \n",
                "to turn our dictionary into a DataFrame. \n",
                "\n",
                "Within the dictionary, we use colons to link a column \n",
                "name with data that we want to store.\n",
                "\n",
                "The example below is a more andvanced example, a simulation."
            ],
            "metadata": {}
        },
        {
            "cell_type": "code",
            "execution_count": 25,
            "source": [
                "import random\n",
                "random.seed(1)\n",
                "\n",
                "\n",
                "pancakes = []\n",
                "# pancakes is an empty list that we can store values in\n",
                "for i in range(10):\n",
                "# we will simulate rolling a dice a 10 times\n",
                "    dice1 = random.randint(1, 6)\n",
                "    d = {\"dice roll\": dice1}\n",
                "    pancakes.append(d)    \n",
                "# we can append our dictionary to our empty list\n",
                "dice_simulation = pd.DataFrame(pancakes)\n",
                "\n",
                "dice_simulation"
            ],
            "outputs": [
                {
                    "output_type": "execute_result",
                    "data": {
                        "text/plain": [
                            "   dice roll\n",
                            "0          2\n",
                            "1          5\n",
                            "2          1\n",
                            "3          3\n",
                            "4          1\n",
                            "5          4\n",
                            "6          4\n",
                            "7          4\n",
                            "8          6\n",
                            "9          4"
                        ],
                        "text/html": [
                            "<div>\n",
                            "<style scoped>\n",
                            "    .dataframe tbody tr th:only-of-type {\n",
                            "        vertical-align: middle;\n",
                            "    }\n",
                            "\n",
                            "    .dataframe tbody tr th {\n",
                            "        vertical-align: top;\n",
                            "    }\n",
                            "\n",
                            "    .dataframe thead th {\n",
                            "        text-align: right;\n",
                            "    }\n",
                            "</style>\n",
                            "<table border=\"1\" class=\"dataframe\">\n",
                            "  <thead>\n",
                            "    <tr style=\"text-align: right;\">\n",
                            "      <th></th>\n",
                            "      <th>dice roll</th>\n",
                            "    </tr>\n",
                            "  </thead>\n",
                            "  <tbody>\n",
                            "    <tr>\n",
                            "      <th>0</th>\n",
                            "      <td>2</td>\n",
                            "    </tr>\n",
                            "    <tr>\n",
                            "      <th>1</th>\n",
                            "      <td>5</td>\n",
                            "    </tr>\n",
                            "    <tr>\n",
                            "      <th>2</th>\n",
                            "      <td>1</td>\n",
                            "    </tr>\n",
                            "    <tr>\n",
                            "      <th>3</th>\n",
                            "      <td>3</td>\n",
                            "    </tr>\n",
                            "    <tr>\n",
                            "      <th>4</th>\n",
                            "      <td>1</td>\n",
                            "    </tr>\n",
                            "    <tr>\n",
                            "      <th>5</th>\n",
                            "      <td>4</td>\n",
                            "    </tr>\n",
                            "    <tr>\n",
                            "      <th>6</th>\n",
                            "      <td>4</td>\n",
                            "    </tr>\n",
                            "    <tr>\n",
                            "      <th>7</th>\n",
                            "      <td>4</td>\n",
                            "    </tr>\n",
                            "    <tr>\n",
                            "      <th>8</th>\n",
                            "      <td>6</td>\n",
                            "    </tr>\n",
                            "    <tr>\n",
                            "      <th>9</th>\n",
                            "      <td>4</td>\n",
                            "    </tr>\n",
                            "  </tbody>\n",
                            "</table>\n",
                            "</div>"
                        ]
                    },
                    "metadata": {},
                    "execution_count": 25
                }
            ],
            "metadata": {}
        },
        {
            "cell_type": "markdown",
            "source": [
                "**Here's a challenge for you:**\n",
                "\n",
                "**Create a DataFrame with where**\n",
                "\n",
                "**- the first column contains the first 3 letters of the alphabet**\n",
                "\n",
                "**- and the second column contains the first 3 letter of your name**"
            ],
            "metadata": {}
        },
        {
            "cell_type": "code",
            "execution_count": 26,
            "source": [
                "first3 = ['a','b','c']\n",
                "my3 = ['c','h','a']\n",
                "dict = {'col1':first3, 'col2':my3}\n",
                "letters_df = pd.DataFrame(dict)\n",
                "letters_df"
            ],
            "outputs": [
                {
                    "output_type": "execute_result",
                    "data": {
                        "text/plain": [
                            "  col1 col2\n",
                            "0    a    c\n",
                            "1    b    h\n",
                            "2    c    a"
                        ],
                        "text/html": [
                            "<div>\n",
                            "<style scoped>\n",
                            "    .dataframe tbody tr th:only-of-type {\n",
                            "        vertical-align: middle;\n",
                            "    }\n",
                            "\n",
                            "    .dataframe tbody tr th {\n",
                            "        vertical-align: top;\n",
                            "    }\n",
                            "\n",
                            "    .dataframe thead th {\n",
                            "        text-align: right;\n",
                            "    }\n",
                            "</style>\n",
                            "<table border=\"1\" class=\"dataframe\">\n",
                            "  <thead>\n",
                            "    <tr style=\"text-align: right;\">\n",
                            "      <th></th>\n",
                            "      <th>col1</th>\n",
                            "      <th>col2</th>\n",
                            "    </tr>\n",
                            "  </thead>\n",
                            "  <tbody>\n",
                            "    <tr>\n",
                            "      <th>0</th>\n",
                            "      <td>a</td>\n",
                            "      <td>c</td>\n",
                            "    </tr>\n",
                            "    <tr>\n",
                            "      <th>1</th>\n",
                            "      <td>b</td>\n",
                            "      <td>h</td>\n",
                            "    </tr>\n",
                            "    <tr>\n",
                            "      <th>2</th>\n",
                            "      <td>c</td>\n",
                            "      <td>a</td>\n",
                            "    </tr>\n",
                            "  </tbody>\n",
                            "</table>\n",
                            "</div>"
                        ]
                    },
                    "metadata": {},
                    "execution_count": 26
                }
            ],
            "metadata": {}
        },
        {
            "cell_type": "markdown",
            "source": [
                "# Part 6: Filtering rows in a DataFrame\n",
                "\n",
                "We can filter our DataFrame and create new DataFrames based on True/False parameters in pandas.\n",
                "\n",
                "This is known as a Boolean expression.\n",
                "\n",
                "Let's see how this can be applied to our DataFrame.\n",
                "\n"
            ],
            "metadata": {}
        },
        {
            "cell_type": "markdown",
            "source": [
                "For instance, I want to see which rows contain the name \"Kevin\". In the next cell, we will see which rows fit our condition."
            ],
            "metadata": {}
        },
        {
            "cell_type": "code",
            "execution_count": 27,
            "source": [
                "hello[\"Name\"] == \"Kevin\""
            ],
            "outputs": [
                {
                    "output_type": "execute_result",
                    "data": {
                        "text/plain": [
                            "0    False\n",
                            "1    False\n",
                            "2    False\n",
                            "3    False\n",
                            "4     True\n",
                            "5    False\n",
                            "Name: Name, dtype: bool"
                        ]
                    },
                    "metadata": {},
                    "execution_count": 27
                }
            ],
            "metadata": {}
        },
        {
            "cell_type": "markdown",
            "source": [
                "As you can see, the row with index 4 is the only one that is \"True\". It's the only row with the name \"Kevin\".\n",
                "\n",
                "We can also look at number ranges. For instance, I want to see which rows have a \"Favorite Number\" greater than 30."
            ],
            "metadata": {}
        },
        {
            "cell_type": "code",
            "execution_count": 28,
            "source": [
                "hello[\"Favorite Number\"] >= 30"
            ],
            "outputs": [
                {
                    "output_type": "execute_result",
                    "data": {
                        "text/plain": [
                            "0    False\n",
                            "1    False\n",
                            "2    False\n",
                            "3     True\n",
                            "4     True\n",
                            "5     True\n",
                            "Name: Favorite Number, dtype: bool"
                        ]
                    },
                    "metadata": {},
                    "execution_count": 28
                }
            ],
            "metadata": {}
        },
        {
            "cell_type": "markdown",
            "source": [
                "We can apply these True/False filters to a DataFrame and get a new DataFrame of just True values"
            ],
            "metadata": {}
        },
        {
            "cell_type": "code",
            "execution_count": 29,
            "source": [
                "hello_kevin = hello[ hello[\"Name\"] == \"Kevin\"]\n",
                "\n",
                "hello_kevin"
            ],
            "outputs": [
                {
                    "output_type": "execute_result",
                    "data": {
                        "text/plain": [
                            "    Name  Favorite Number Answer  New Number animals\n",
                            "4  Kevin               41    Yes        1681   otter"
                        ],
                        "text/html": [
                            "<div>\n",
                            "<style scoped>\n",
                            "    .dataframe tbody tr th:only-of-type {\n",
                            "        vertical-align: middle;\n",
                            "    }\n",
                            "\n",
                            "    .dataframe tbody tr th {\n",
                            "        vertical-align: top;\n",
                            "    }\n",
                            "\n",
                            "    .dataframe thead th {\n",
                            "        text-align: right;\n",
                            "    }\n",
                            "</style>\n",
                            "<table border=\"1\" class=\"dataframe\">\n",
                            "  <thead>\n",
                            "    <tr style=\"text-align: right;\">\n",
                            "      <th></th>\n",
                            "      <th>Name</th>\n",
                            "      <th>Favorite Number</th>\n",
                            "      <th>Answer</th>\n",
                            "      <th>New Number</th>\n",
                            "      <th>animals</th>\n",
                            "    </tr>\n",
                            "  </thead>\n",
                            "  <tbody>\n",
                            "    <tr>\n",
                            "      <th>4</th>\n",
                            "      <td>Kevin</td>\n",
                            "      <td>41</td>\n",
                            "      <td>Yes</td>\n",
                            "      <td>1681</td>\n",
                            "      <td>otter</td>\n",
                            "    </tr>\n",
                            "  </tbody>\n",
                            "</table>\n",
                            "</div>"
                        ]
                    },
                    "metadata": {},
                    "execution_count": 29
                }
            ],
            "metadata": {}
        },
        {
            "cell_type": "code",
            "execution_count": 30,
            "source": [
                "hello_30 = hello[ hello[\"Favorite Number\"] >= 30]\n",
                "\n",
                "hello_30"
            ],
            "outputs": [
                {
                    "output_type": "execute_result",
                    "data": {
                        "text/plain": [
                            "     Name  Favorite Number Answer  New Number animals\n",
                            "3  Xander               30     No         900     dog\n",
                            "4   Kevin               41    Yes        1681   otter\n",
                            "5   Giang               58    Yes        3364    fish"
                        ],
                        "text/html": [
                            "<div>\n",
                            "<style scoped>\n",
                            "    .dataframe tbody tr th:only-of-type {\n",
                            "        vertical-align: middle;\n",
                            "    }\n",
                            "\n",
                            "    .dataframe tbody tr th {\n",
                            "        vertical-align: top;\n",
                            "    }\n",
                            "\n",
                            "    .dataframe thead th {\n",
                            "        text-align: right;\n",
                            "    }\n",
                            "</style>\n",
                            "<table border=\"1\" class=\"dataframe\">\n",
                            "  <thead>\n",
                            "    <tr style=\"text-align: right;\">\n",
                            "      <th></th>\n",
                            "      <th>Name</th>\n",
                            "      <th>Favorite Number</th>\n",
                            "      <th>Answer</th>\n",
                            "      <th>New Number</th>\n",
                            "      <th>animals</th>\n",
                            "    </tr>\n",
                            "  </thead>\n",
                            "  <tbody>\n",
                            "    <tr>\n",
                            "      <th>3</th>\n",
                            "      <td>Xander</td>\n",
                            "      <td>30</td>\n",
                            "      <td>No</td>\n",
                            "      <td>900</td>\n",
                            "      <td>dog</td>\n",
                            "    </tr>\n",
                            "    <tr>\n",
                            "      <th>4</th>\n",
                            "      <td>Kevin</td>\n",
                            "      <td>41</td>\n",
                            "      <td>Yes</td>\n",
                            "      <td>1681</td>\n",
                            "      <td>otter</td>\n",
                            "    </tr>\n",
                            "    <tr>\n",
                            "      <th>5</th>\n",
                            "      <td>Giang</td>\n",
                            "      <td>58</td>\n",
                            "      <td>Yes</td>\n",
                            "      <td>3364</td>\n",
                            "      <td>fish</td>\n",
                            "    </tr>\n",
                            "  </tbody>\n",
                            "</table>\n",
                            "</div>"
                        ]
                    },
                    "metadata": {},
                    "execution_count": 30
                }
            ],
            "metadata": {}
        },
        {
            "cell_type": "markdown",
            "source": [
                "**Using our hello DataFrame and the examples above, try to create a DataFrame of only rows where the Answer is Yes**"
            ],
            "metadata": {}
        },
        {
            "cell_type": "code",
            "execution_count": 31,
            "source": [
                "# Apply the filter of Answer == Yes to a Dataframe and store it in hello_yes\n",
                "\n",
                "hello_yes = hello[ hello['Answer'] == 'Yes']\n",
                "\n",
                "# Let's check if we got the correct DataFrame\n",
                "hello_yes"
            ],
            "outputs": [
                {
                    "output_type": "execute_result",
                    "data": {
                        "text/plain": [
                            "      Name  Favorite Number Answer  New Number animals\n",
                            "0  Charlie                5    Yes          25   horse\n",
                            "2    Katie               19    Yes         361   goose\n",
                            "4    Kevin               41    Yes        1681   otter\n",
                            "5    Giang               58    Yes        3364    fish"
                        ],
                        "text/html": [
                            "<div>\n",
                            "<style scoped>\n",
                            "    .dataframe tbody tr th:only-of-type {\n",
                            "        vertical-align: middle;\n",
                            "    }\n",
                            "\n",
                            "    .dataframe tbody tr th {\n",
                            "        vertical-align: top;\n",
                            "    }\n",
                            "\n",
                            "    .dataframe thead th {\n",
                            "        text-align: right;\n",
                            "    }\n",
                            "</style>\n",
                            "<table border=\"1\" class=\"dataframe\">\n",
                            "  <thead>\n",
                            "    <tr style=\"text-align: right;\">\n",
                            "      <th></th>\n",
                            "      <th>Name</th>\n",
                            "      <th>Favorite Number</th>\n",
                            "      <th>Answer</th>\n",
                            "      <th>New Number</th>\n",
                            "      <th>animals</th>\n",
                            "    </tr>\n",
                            "  </thead>\n",
                            "  <tbody>\n",
                            "    <tr>\n",
                            "      <th>0</th>\n",
                            "      <td>Charlie</td>\n",
                            "      <td>5</td>\n",
                            "      <td>Yes</td>\n",
                            "      <td>25</td>\n",
                            "      <td>horse</td>\n",
                            "    </tr>\n",
                            "    <tr>\n",
                            "      <th>2</th>\n",
                            "      <td>Katie</td>\n",
                            "      <td>19</td>\n",
                            "      <td>Yes</td>\n",
                            "      <td>361</td>\n",
                            "      <td>goose</td>\n",
                            "    </tr>\n",
                            "    <tr>\n",
                            "      <th>4</th>\n",
                            "      <td>Kevin</td>\n",
                            "      <td>41</td>\n",
                            "      <td>Yes</td>\n",
                            "      <td>1681</td>\n",
                            "      <td>otter</td>\n",
                            "    </tr>\n",
                            "    <tr>\n",
                            "      <th>5</th>\n",
                            "      <td>Giang</td>\n",
                            "      <td>58</td>\n",
                            "      <td>Yes</td>\n",
                            "      <td>3364</td>\n",
                            "      <td>fish</td>\n",
                            "    </tr>\n",
                            "  </tbody>\n",
                            "</table>\n",
                            "</div>"
                        ]
                    },
                    "metadata": {},
                    "execution_count": 31
                }
            ],
            "metadata": {}
        },
        {
            "cell_type": "markdown",
            "source": [
                "# Congrats you've reached the end of the iCenter Pandas Crash Course\n",
                "\n",
                "After completing this activity, you now know...\n",
                "\n",
                "- what pandas is\n",
                "\n",
                "- how to import and read csv's\n",
                "\n",
                "- the basic structure to dataframes\n",
                "\n",
                "- how to add, remove, and alter columns in a dataframe\n",
                "\n",
                "- how to create your own dataframe from a dictionary\n",
                "\n",
                "- how to filter rows in a dataframe\n",
                "\n",
                "\n"
            ],
            "metadata": {}
        },
        {
            "cell_type": "markdown",
            "source": [],
            "metadata": {}
        }
    ],
    "metadata": {
        "orig_nbformat": 4,
        "language_info": {
            "name": "python",
            "version": "3.9.5",
            "mimetype": "text/x-python",
            "codemirror_mode": {
                "name": "ipython",
                "version": 3
            },
            "pygments_lexer": "ipython3",
            "nbconvert_exporter": "python",
            "file_extension": ".py"
        },
        "kernelspec": {
            "name": "python3",
            "display_name": "Python 3.9.5 64-bit ('base': conda)"
        },
        "interpreter": {
            "hash": "64fce9acb32a4881197d8d1dc9fd8a1742b536950d2521bee0b7d914d31dcb6b"
        }
    },
    "nbformat": 4,
    "nbformat_minor": 2
}