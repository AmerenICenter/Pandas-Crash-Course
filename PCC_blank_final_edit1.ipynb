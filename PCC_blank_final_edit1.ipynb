{
    "cells": [
        {
            "cell_type": "markdown",
            "source": [
                "# Welcome to the iCenter's **Pandas Crash Course** \n",
                "\n",
                "\n",
                "        brought to you by Charlie :)\n"
            ],
            "metadata": {}
        },
        {
            "cell_type": "markdown",
            "source": [
                "Pandas is a Python package that you can use to explore data in data tables. \n",
                "\n",
                "\n",
                "\n",
                "In this guide, you will complete simple tasks to get you comfortable with pandas.\n",
                "\n",
                "\n",
                "          Note: Here's the pandas cheatsheet https://pandas.pydata.org/Pandas_Cheat_Sheet.pdf\n",
                "\n",
                "          It has useful pandas commands that you may want to use later on \n",
                "          in this guide, as well as in your journey as a data scientist\n"
            ],
            "metadata": {}
        },
        {
            "cell_type": "markdown",
            "source": [
                "# Part 1: Importing pandas\n",
                "\n",
                "The first step to using pandas is loading it up for use.\n",
                "\n",
                "**In the cell below, import pandas so you can use it.**\n",
                "\n",
                "      Hint: use the command \"import\"\n",
                "\n",
                "Also see: https://pandas.pydata.org/docs/getting_started/intro_tutorials/02_read_write.html"
            ],
            "metadata": {}
        },
        {
            "cell_type": "code",
            "execution_count": null,
            "source": [
                "# Import pandas here\n"
            ],
            "outputs": [],
            "metadata": {}
        },
        {
            "cell_type": "markdown",
            "source": [
                "# Part 2: Reading your dataset"
            ],
            "metadata": {}
        },
        {
            "cell_type": "markdown",
            "source": [
                "Now that we've imported pandas, let's read a dataset\n",
                "\n",
                "**Use the csv file called \"charlie.csv\" and store it in the variable \"hello\"**\n",
                "\n",
                "    Hint: pandas can read csv files\n",
                "\n",
                "\n",
                "Also see: https://pandas.pydata.org/docs/getting_started/intro_tutorials/02_read_write.html\n",
                "\n"
            ],
            "metadata": {}
        },
        {
            "cell_type": "code",
            "execution_count": null,
            "source": [
                "# store the file in hello\n",
                "\n",
                "hello = ...\n",
                "\n",
                "# Let's call on our variable to see if we did it correctly\n",
                "hello"
            ],
            "outputs": [],
            "metadata": {}
        },
        {
            "cell_type": "markdown",
            "source": [
                "There are other ways of reading datasets but reading a csv is the most common way.\n",
                "\n",
                "By reading the csv, we have created a **DataFrame**. A DataFrame is a data structure in Python that we can work with. \n",
                "\n",
                " "
            ],
            "metadata": {}
        },
        {
            "cell_type": "markdown",
            "source": [
                "# Part 3: Know our way around a DataFrame\n",
                "\n",
                "A DataFrame has rows. These rows are labeled by an **index**, an integer assigned to a row.\n",
                "\n",
                "We can access a row by calling on the index.\n",
                "\n",
                "Let's find out how many indexes are in our \"hello\" DataFrame using the **.index** function.\n",
                "\n"
            ],
            "metadata": {}
        },
        {
            "cell_type": "code",
            "execution_count": null,
            "source": [
                "hello.index"
            ],
            "outputs": [],
            "metadata": {}
        },
        {
            "cell_type": "markdown",
            "source": [
                "We can enter the index integer into **.iloc[ ]** to access all the information from a specified row.\n",
                "\n"
            ],
            "metadata": {}
        },
        {
            "cell_type": "code",
            "execution_count": null,
            "source": [
                "# For example, if I wanted to see what is in row 3, I could do the following\n",
                "hello.iloc[3]"
            ],
            "outputs": [],
            "metadata": {}
        },
        {
            "cell_type": "markdown",
            "source": [
                "**Now you try! Look at your hello DataFrame and select the row that contains James**"
            ],
            "metadata": {}
        },
        {
            "cell_type": "code",
            "execution_count": null,
            "source": [
                "# Try to get all the information from row that contains James\n",
                "\n",
                "James_data = ...\n",
                "\n",
                "\n",
                "# Let's print our answer below\n",
                "\n",
                "print(James_data)\n"
            ],
            "outputs": [],
            "metadata": {}
        },
        {
            "cell_type": "markdown",
            "source": [
                "As you can see above, the index corresponds with a row.\n",
                "\n",
                "A DataFrame also has columns. \n",
                "\n",
                "Let's see what columns we are working with in our \"hello\" DataFrame using the **.columns** function"
            ],
            "metadata": {}
        },
        {
            "cell_type": "code",
            "execution_count": null,
            "source": [
                "hello.columns"
            ],
            "outputs": [],
            "metadata": {}
        },
        {
            "cell_type": "markdown",
            "source": [
                "We can enter the index and column name into **.loc[ ]** to access the specified data.\n",
                "\n",
                "Example: DataFrame.loc[ integer, 'Column Name']\n",
                "\n",
                "**Using the hello DataFrame and the example above, determine the ANSWER that CHARLIE gave**\n",
                "\n",
                "\n",
                "    Hint: First determine the correct index. Then, determine the column name that contain's Charlie's answer"
            ],
            "metadata": {}
        },
        {
            "cell_type": "code",
            "execution_count": null,
            "source": [
                "# Find Charlie's Answer\n",
                "charlie_answer = ...\n",
                "\n",
                "# Let's print our answer below\n",
                "print(charlie_answer)"
            ],
            "outputs": [],
            "metadata": {}
        },
        {
            "cell_type": "markdown",
            "source": [
                "# Part 3.5: Useful functions in a Pandas\n",
                "\n",
                "Above we used the function .loc and .iloc. Below are a few functions that may come in\n",
                "handy when you start working with data. \n",
                "\n",
                "Further reading: https://www.analyticsvidhya.com/blog/2021/05/pandas-functions-13-most-important/\n",
                "\n"
            ],
            "metadata": {}
        },
        {
            "cell_type": "markdown",
            "source": [
                "1. .head(n) gives us the first 'n' rows of a dataframe \n",
                "2. .describe() gives us a statistical summary of the dataframe\n",
                "3. .value_counts() gives the number of times a value appears\n",
                "4. .drop_duplicates drops duplicate rows\n",
                "5. .fillna() replaces NaN values with what we enter in"
            ],
            "metadata": {}
        },
        {
            "cell_type": "code",
            "execution_count": 31,
            "source": [
                "p3_df = pd.read_csv('partthreedf.csv')\n",
                "p3_df"
            ],
            "outputs": [
                {
                    "data": {
                        "text/plain": [
                            "   name  height  weight  shoe size   color\n",
                            "0   Joe    77.0     200         13     red\n",
                            "1  Jane    63.0     100          6    blue\n",
                            "2   Ben    70.0     125          8     red\n",
                            "3  John    69.0     150          9   green\n",
                            "4   Joe    77.0     200         13     red\n",
                            "5  Alex     NaN     175         10  purple\n",
                            "6   Sam    61.0     140          7  yellow"
                        ],
                        "text/html": [
                            "<div>\n",
                            "<style scoped>\n",
                            "    .dataframe tbody tr th:only-of-type {\n",
                            "        vertical-align: middle;\n",
                            "    }\n",
                            "\n",
                            "    .dataframe tbody tr th {\n",
                            "        vertical-align: top;\n",
                            "    }\n",
                            "\n",
                            "    .dataframe thead th {\n",
                            "        text-align: right;\n",
                            "    }\n",
                            "</style>\n",
                            "<table border=\"1\" class=\"dataframe\">\n",
                            "  <thead>\n",
                            "    <tr style=\"text-align: right;\">\n",
                            "      <th></th>\n",
                            "      <th>name</th>\n",
                            "      <th>height</th>\n",
                            "      <th>weight</th>\n",
                            "      <th>shoe size</th>\n",
                            "      <th>color</th>\n",
                            "    </tr>\n",
                            "  </thead>\n",
                            "  <tbody>\n",
                            "    <tr>\n",
                            "      <th>0</th>\n",
                            "      <td>Joe</td>\n",
                            "      <td>77.0</td>\n",
                            "      <td>200</td>\n",
                            "      <td>13</td>\n",
                            "      <td>red</td>\n",
                            "    </tr>\n",
                            "    <tr>\n",
                            "      <th>1</th>\n",
                            "      <td>Jane</td>\n",
                            "      <td>63.0</td>\n",
                            "      <td>100</td>\n",
                            "      <td>6</td>\n",
                            "      <td>blue</td>\n",
                            "    </tr>\n",
                            "    <tr>\n",
                            "      <th>2</th>\n",
                            "      <td>Ben</td>\n",
                            "      <td>70.0</td>\n",
                            "      <td>125</td>\n",
                            "      <td>8</td>\n",
                            "      <td>red</td>\n",
                            "    </tr>\n",
                            "    <tr>\n",
                            "      <th>3</th>\n",
                            "      <td>John</td>\n",
                            "      <td>69.0</td>\n",
                            "      <td>150</td>\n",
                            "      <td>9</td>\n",
                            "      <td>green</td>\n",
                            "    </tr>\n",
                            "    <tr>\n",
                            "      <th>4</th>\n",
                            "      <td>Joe</td>\n",
                            "      <td>77.0</td>\n",
                            "      <td>200</td>\n",
                            "      <td>13</td>\n",
                            "      <td>red</td>\n",
                            "    </tr>\n",
                            "    <tr>\n",
                            "      <th>5</th>\n",
                            "      <td>Alex</td>\n",
                            "      <td>NaN</td>\n",
                            "      <td>175</td>\n",
                            "      <td>10</td>\n",
                            "      <td>purple</td>\n",
                            "    </tr>\n",
                            "    <tr>\n",
                            "      <th>6</th>\n",
                            "      <td>Sam</td>\n",
                            "      <td>61.0</td>\n",
                            "      <td>140</td>\n",
                            "      <td>7</td>\n",
                            "      <td>yellow</td>\n",
                            "    </tr>\n",
                            "  </tbody>\n",
                            "</table>\n",
                            "</div>"
                        ]
                    },
                    "metadata": {},
                    "output_type": "display_data"
                }
            ],
            "metadata": {}
        },
        {
            "cell_type": "code",
            "execution_count": 32,
            "source": [
                "# example code\n",
                "head_example = p3_df.head(3)\n",
                "\n",
                "describe_ex = p3_df.describe()\n",
                "\n",
                "vcounts_ex = p3_df['color'].value_counts()\n",
                "\n",
                "droppings_ex = p3_df.drop_duplicates()\n",
                "\n",
                "filled_ex = p3_df.fillna(1000)\n"
            ],
            "outputs": [],
            "metadata": {}
        },
        {
            "cell_type": "markdown",
            "source": [
                "Print each example below by removing the hashtag (#) infront of each example and see what the outputs look like.\n",
                "\n",
                "\n",
                "If we are outputting a dataframe, compare the new dataframe to the old one and see what's different."
            ],
            "metadata": {}
        },
        {
            "cell_type": "code",
            "execution_count": 33,
            "source": [
                "# Playground for you to try things \n",
                "\n",
                "# head_example\n",
                "# describe_ex\n",
                "# vcounts_ex\n",
                "# droppings_ex\n",
                "# filled_ex"
            ],
            "outputs": [],
            "metadata": {}
        },
        {
            "cell_type": "markdown",
            "source": [
                "# Part 4: Altering your DataFrame\n",
                "\n",
                "Sometimes our DataFrame has information that we don't want. There are ways to change our DataFrame to remove unwanted data."
            ],
            "metadata": {}
        },
        {
            "cell_type": "markdown",
            "source": [
                "What if we don't care about \"Favorite Number\"? We can drop the column from the \"hello\" DataFrame using the following code.\n",
                "\n",
                "    DataFrame.drop(columns = \"Column Name\")\n"
            ],
            "metadata": {}
        },
        {
            "cell_type": "code",
            "execution_count": null,
            "source": [
                "# We will remove the Favorite Number column and store the new dataframe as hello2\n",
                "hello2 = hello.drop(columns = \"Favorite Number\")\n",
                "\n",
                "# Let's see if we did it correctly\n",
                "hello2\n"
            ],
            "outputs": [],
            "metadata": {}
        },
        {
            "cell_type": "markdown",
            "source": [
                "We can also add columns to our DataFrame. \n",
                "\n",
                "Below is an example of how we can add a new column to our hello DataFrame that contains our the square of our favorite numbers."
            ],
            "metadata": {}
        },
        {
            "cell_type": "code",
            "execution_count": null,
            "source": [
                "# We are squaring the Favorite number column and putting the values in a new column named \"New Number\"\n",
                "hello[\"New Number\"] = hello[\"Favorite Number\"]**2\n",
                "\n",
                "hello"
            ],
            "outputs": [],
            "metadata": {}
        },
        {
            "cell_type": "markdown",
            "source": [
                "As you an see, we made a new column called \"New Number\" in our \"hello\" DataFrame.\n",
                "\n",
                "We can do the same thing when given a list of values. Keep in mind, our list needs to be the same length as the DataFrame"
            ],
            "metadata": {}
        },
        {
            "cell_type": "code",
            "execution_count": null,
            "source": [
                "# Below are two new lists\n",
                "new_list_1 = [\"horse\", \"crab\", \"goose\", \"dog\", \"otter\", \"fish\"]\n",
                "new_list_2 = [3, 6, 9, 12, 15, 18]\n",
                "\n",
                "# We can straight up add the lists to the hello dataframe under a new column name\n",
                "hello[\"animals\"] = new_list_1\n",
                "\n",
                "# Let's see how we've changed our dataframe\n",
                "hello"
            ],
            "outputs": [],
            "metadata": {}
        },
        {
            "cell_type": "markdown",
            "source": [
                "Now you try! **Here's your challenge:**\n",
                "\n",
                "**First remove the two columns \"New Number\" and \"animals\" and store it as my_df**\n",
                "\n",
                "**Next, add new_list_2 to the hello dataframe**\n",
                "\n",
                "**Finally, create a new column that has the product of \"Favorite Number\" and the numbers from new_list_2**"
            ],
            "metadata": {}
        },
        {
            "cell_type": "code",
            "execution_count": null,
            "source": [
                "# Drop your columns below\n",
                "my_df = ...\n",
                "\n",
                "# Look at your dataframe to see if it worked\n",
                "\n",
                "my_df\n"
            ],
            "outputs": [],
            "metadata": {}
        },
        {
            "cell_type": "code",
            "execution_count": null,
            "source": [
                "# Add new_list_2 to my_df below\n",
                "my_df[\"mo3\"] = ...\n",
                "\n",
                "# Look at the my_df and see if it worked\n",
                "my_df"
            ],
            "outputs": [],
            "metadata": {}
        },
        {
            "cell_type": "code",
            "execution_count": null,
            "source": [
                "# Find the product and store it as a new column in my_df\n",
                "my_df['Product'] = ...\n",
                "\n",
                "# See if it worked\n",
                "\n",
                "my_df"
            ],
            "outputs": [],
            "metadata": {}
        },
        {
            "cell_type": "markdown",
            "source": [
                "# Part 5: Creating Your Own DataFrame\n",
                "\n",
                "We can also create a brand new DataFrame and store data into columns. \n",
                "\n",
                "This can be done using a $dictionary$.\n",
                "\n",
                "Read more here: https://pandas.pydata.org/docs/reference/api/pandas.DataFrame.from_dict.html\n",
                "\n",
                "Below is an example that you can run to see where everything falls.\n"
            ],
            "metadata": {}
        },
        {
            "cell_type": "code",
            "execution_count": null,
            "source": [
                "some_list = ['yes', 'no', 34]\n",
                "\n",
                "my_dictionary = {'column_name': some_list, 'more numbers': [ 2, 12, 144]}\n",
                "brand_new_df = pd.DataFrame(my_dictionary)\n",
                "brand_new_df\n"
            ],
            "outputs": [],
            "metadata": {}
        },
        {
            "cell_type": "markdown",
            "source": [
                "As shown above, we use the pandas.DataFrame() function \n",
                "to turn our dictionary into a DataFrame. \n",
                "\n",
                "Within the dictionary, we use colons to link a column \n",
                "name with data that we want to store.\n",
                "\n",
                "The example below is a more andvanced example, a simulation."
            ],
            "metadata": {}
        },
        {
            "cell_type": "code",
            "execution_count": null,
            "source": [
                "import random\n",
                "random.seed(1)\n",
                "\n",
                "\n",
                "pancakes = []\n",
                "# pancakes is an empty list that we can store values in\n",
                "for i in range(10):\n",
                "# we will simulate rolling a dice a 10 times\n",
                "    dice1 = random.randint(1, 6)\n",
                "    d = {\"dice roll\": dice1}\n",
                "    pancakes.append(d)    \n",
                "# we can append our dictionary to our empty list\n",
                "dice_simulation = pd.DataFrame(pancakes)\n",
                "\n",
                "dice_simulation"
            ],
            "outputs": [],
            "metadata": {}
        },
        {
            "cell_type": "markdown",
            "source": [
                "**Here's a challenge for you:**\n",
                "\n",
                "**Create a DataFrame with where**\n",
                "\n",
                "**the first column contains the first 3 letters of the alphabet**\n",
                "\n",
                "**and the second column contains the first 3 letter of your name**"
            ],
            "metadata": {}
        },
        {
            "cell_type": "code",
            "execution_count": null,
            "source": [
                "first3 = ...\n",
                "my3 = ...\n",
                "dict = ...\n",
                "letters_df = ...\n",
                "letters_df"
            ],
            "outputs": [],
            "metadata": {}
        },
        {
            "cell_type": "markdown",
            "source": [
                "# Part 6: Filtering rows in a DataFrame\n",
                "\n",
                "We can filter our DataFrame and create new DataFrames based on True/False parameters in pandas.\n",
                "\n",
                "This is known as a Boolean expression.\n",
                "\n",
                "Let's see how this can be applied to our DataFrame.\n",
                "\n"
            ],
            "metadata": {}
        },
        {
            "cell_type": "markdown",
            "source": [
                "For instance, I want to see which rows contain the name \"Kevin\". In the next cell, we will see which rows fit our condition."
            ],
            "metadata": {}
        },
        {
            "cell_type": "code",
            "execution_count": null,
            "source": [
                "hello[\"Name\"] == \"Kevin\""
            ],
            "outputs": [],
            "metadata": {}
        },
        {
            "cell_type": "markdown",
            "source": [
                "As you can see, the row with index 4 is the only one that is \"True\". It's the only row with the name \"Kevin\".\n",
                "\n",
                "We can also look at number ranges. For instance, I want to see which rows have a \"Favorite Number\" greater than 30."
            ],
            "metadata": {}
        },
        {
            "cell_type": "code",
            "execution_count": null,
            "source": [
                "hello[\"Favorite Number\"] >= 30"
            ],
            "outputs": [],
            "metadata": {}
        },
        {
            "cell_type": "markdown",
            "source": [
                "We can apply these True/False filters to a DataFrame and get a new DataFrame of just True values"
            ],
            "metadata": {}
        },
        {
            "cell_type": "code",
            "execution_count": null,
            "source": [
                "hello_kevin = hello[ hello[\"Name\"] == \"Kevin\"]\n",
                "\n",
                "hello_kevin"
            ],
            "outputs": [],
            "metadata": {}
        },
        {
            "cell_type": "code",
            "execution_count": null,
            "source": [
                "hello_30 = hello[ hello[\"Favorite Number\"] >= 30]\n",
                "\n",
                "hello_30"
            ],
            "outputs": [],
            "metadata": {}
        },
        {
            "cell_type": "markdown",
            "source": [
                "**Using our hello DataFrame and the examples above, try to create a DataFrame of only rows where the Answer is Yes**"
            ],
            "metadata": {}
        },
        {
            "cell_type": "code",
            "execution_count": null,
            "source": [
                "# Apply the filter of Answer == Yes to a Dataframe and store it in hello_yes\n",
                "\n",
                "hello_yes = ...\n",
                "\n",
                "# Let's check if we got the correct DataFrame\n",
                "hello_yes"
            ],
            "outputs": [],
            "metadata": {}
        },
        {
            "cell_type": "markdown",
            "source": [
                "# Congrats you've reached the end of the iCenter Pandas Crash Course\n",
                "\n",
                "After completing this activity, you now know...\n",
                "\n",
                "- what pandas is\n",
                "\n",
                "- how to import and read csv's\n",
                "\n",
                "- the basic structure to dataframes\n",
                "\n",
                "- how to add, remove, and alter columns in a dataframe\n",
                "\n",
                "- how to create your own dataframe from a dictionary\n",
                "\n",
                "- how to filter rows in a dataframe\n",
                "\n",
                "\n"
            ],
            "metadata": {}
        },
        {
            "cell_type": "markdown",
            "source": [],
            "metadata": {}
        }
    ],
    "metadata": {
        "orig_nbformat": 4,
        "language_info": {
            "name": "python",
            "version": "3.9.5",
            "mimetype": "text/x-python",
            "codemirror_mode": {
                "name": "ipython",
                "version": 3
            },
            "pygments_lexer": "ipython3",
            "nbconvert_exporter": "python",
            "file_extension": ".py"
        },
        "kernelspec": {
            "name": "python3",
            "display_name": "Python 3.9.5 64-bit ('base': conda)"
        },
        "interpreter": {
            "hash": "64fce9acb32a4881197d8d1dc9fd8a1742b536950d2521bee0b7d914d31dcb6b"
        }
    },
    "nbformat": 4,
    "nbformat_minor": 2
}